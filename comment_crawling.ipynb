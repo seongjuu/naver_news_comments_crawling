{
 "cells": [
  {
   "cell_type": "code",
   "execution_count": 1,
   "id": "43491a36",
   "metadata": {},
   "outputs": [],
   "source": [
    "import pickle\n",
    "import requests\n",
    "import json\n",
    "import pickle\n",
    "import time\n",
    "import random\n",
    "from tqdm import tqdm\n",
    "import pandas as pd\n",
    "from bs4 import BeautifulSoup"
   ]
  },
  {
   "cell_type": "code",
   "execution_count": 2,
   "id": "6b6e7971",
   "metadata": {},
   "outputs": [],
   "source": [
    "def get_replies(news_id, article_id, comment_url, parentno, count):\n",
    "    reply_api_url = \"https://apis.naver.com/commentBox/cbox/web_naver_list_jsonp.json?ticket=news&templateId=default_world&pool=cbox5&_cv=20230925155059&_callback=jQuery33108418242169677335_1696224307224&lang=ko&country=KR&objectId=news\" + news_id + \"%2C\" + article_id + \"&categoryId=&pageSize=20&indexSize=10&groupId=&listType=OBJECT&pageType=more&parentCommentNo=\" + parentno + \"&page=1&userType=&includeAllStatus=true&moreType=next&_=1696224307230\"\n",
    "\n",
    "    headers = {'User-agent': 'Mozilla/5.0', 'referer': comment_url}\n",
    "    r = requests.get(reply_api_url, headers=headers)\n",
    "\n",
    "    reply_raw_data = r.text\n",
    "    reply_start_index = reply_raw_data.find('(') + 1\n",
    "    reply_main_data = reply_raw_data[reply_start_index:-2]\n",
    "    reply_main_data_dict = json.loads(reply_main_data)\n",
    "    \n",
    "    replies = {}\n",
    "    if 'commentList' in reply_main_data_dict['result']:\n",
    "        reply_count = 0\n",
    "        for reply_dict in reply_main_data_dict['result']['commentList']:\n",
    "            key = f\"{count}_{reply_count}\"  \n",
    "            replies[key] = {}\n",
    "            replies[key]['parentCommentNo'] = parentno  \n",
    "            replies[key]['userId'] = reply_dict['userName']\n",
    "            replies[key]['Time'] = reply_dict['modTime']\n",
    "            replies[key]['content'] = reply_dict['contents']\n",
    "            replies[key]['sympathyCount'] = reply_dict['sympathyCount']\n",
    "            replies[key]['antipathyCount'] = reply_dict['antipathyCount']\n",
    "            reply_count += 1\n",
    "\n",
    "    return replies"
   ]
  },
  {
   "cell_type": "code",
   "execution_count": 3,
   "id": "fd08e5d6",
   "metadata": {},
   "outputs": [],
   "source": [
    "def get_comments(url):\n",
    "    news_id = url.split(\"/\")[4]\n",
    "    article_id = url.split('/')[5].split('?')[0]\n",
    "    \n",
    "    comment_url = url\n",
    "    total_comments = {}\n",
    "    total_replies = {}\n",
    "\n",
    "    page = 1\n",
    "    moreParam_prev = \"\"\n",
    "    moreParam_next = \"\"\n",
    "    while True:\n",
    "        sleep_time = random.random()*1.5\n",
    "        time.sleep(sleep_time)\n",
    "        \n",
    "        # 공감순은 sort=FAVORITE로, 최신준 정렬은 sort=new로 변경할 것\n",
    "        comment_api_url = f\"https://apis.naver.com/commentBox/cbox/web_naver_list_jsonp.json?ticket=news&templateId=view_society_m1&pool=cbox5&_callback=jQuery33109493201888925509_1696217590564&lang=ko&country=KR&objectId=news{news_id}%2C{article_id}&pageSize=20&indexSize=10&groupId=&listType=OBJECT&pageType=more&page={page}&refresh=false&sort=FAVORITE&moreParam.prev={moreParam_prev}&moreParam.next={moreParam_next}\"\n",
    "        \n",
    "        headers = {'User-agent': 'Mozilla/5.0', 'referer': comment_url}\n",
    "        r=requests.get(comment_api_url, headers=headers)\n",
    "        \n",
    "        raw_data = r.text\n",
    "        start_index = raw_data.find('(') + 1\n",
    "        main_data = raw_data[start_index:-2]\n",
    "        main_data_dict = json.loads(main_data)\n",
    "        \n",
    "        # 페이지 네비게이션 정보 업데이트\n",
    "        page = main_data_dict['result']['pageModel']['nextPage']\n",
    "        moreParam_prev = main_data_dict['result']['morePage']['prev']\n",
    "        moreParam_next = main_data_dict['result']['morePage']['next']\n",
    "        \n",
    "        # 댓글 정보 추출\n",
    "        count = len(total_comments)\n",
    "        for comment_dict in main_data_dict['result']['commentList']:\n",
    "            total_comments[str(count)] = {}\n",
    "            total_comments[str(count)]['userId'] = comment_dict['userName']\n",
    "            total_comments[str(count)]['Time'] = comment_dict['modTime']\n",
    "            total_comments[str(count)]['content'] = comment_dict['contents']\n",
    "            total_comments[str(count)]['sympathyCount'] = comment_dict['sympathyCount']\n",
    "            total_comments[str(count)]['antipathyCount'] = comment_dict['antipathyCount']\n",
    "            total_comments[str(count)]['replyCount'] = comment_dict['replyCount']\n",
    "            total_comments[str(count)]['CommentNo'] = comment_dict['parentCommentNo']\n",
    "                      \n",
    "            # get_replies 함수 호출하기:\n",
    "            if comment_dict['replyCount'] > 0:\n",
    "                parentno = comment_dict['parentCommentNo']\n",
    "                replies_for_comment = get_replies(news_id, article_id, comment_url, parentno, count)\n",
    "                total_replies.update(replies_for_comment)\n",
    "        \n",
    "            count += 1\n",
    "        \n",
    "        # 다음 페이지가 없으면 종료\n",
    "        if page == 0 or page == main_data_dict['result']['pageModel']['totalPages']:\n",
    "            break\n",
    "        \n",
    "    return total_comments, total_replies"
   ]
  },
  {
   "cell_type": "code",
   "execution_count": 4,
   "id": "a90e9e09",
   "metadata": {},
   "outputs": [],
   "source": [
    "from datetime import datetime\n",
    "\n",
    "# 문자열을 datetime 객체로 변환\n",
    "def convert_time_format(time_str):\n",
    "    dt = datetime.strptime(time_str, '%Y-%m-%dT%H:%M:%S%z')\n",
    "    return dt.strftime('%Y-%m-%d %H:%M:%S')"
   ]
  },
  {
   "cell_type": "markdown",
   "id": "cc4f3986",
   "metadata": {},
   "source": [
    "## 기사 댓글 수집하기"
   ]
  },
  {
   "cell_type": "code",
   "execution_count": 5,
   "id": "a07ee123",
   "metadata": {},
   "outputs": [
    {
     "name": "stderr",
     "output_type": "stream",
     "text": [
      "<ipython-input-5-d1ca18ff5094>:7: SettingWithCopyWarning: \n",
      "A value is trying to be set on a copy of a slice from a DataFrame.\n",
      "Try using .loc[row_indexer,col_indexer] = value instead\n",
      "\n",
      "See the caveats in the documentation: https://pandas.pydata.org/pandas-docs/stable/user_guide/indexing.html#returning-a-view-versus-a-copy\n",
      "  hangyoreh7['index'] = range(len(hangyoreh7))\n"
     ]
    },
    {
     "data": {
      "text/html": [
       "<div>\n",
       "<style scoped>\n",
       "    .dataframe tbody tr th:only-of-type {\n",
       "        vertical-align: middle;\n",
       "    }\n",
       "\n",
       "    .dataframe tbody tr th {\n",
       "        vertical-align: top;\n",
       "    }\n",
       "\n",
       "    .dataframe thead th {\n",
       "        text-align: right;\n",
       "    }\n",
       "</style>\n",
       "<table border=\"1\" class=\"dataframe\">\n",
       "  <thead>\n",
       "    <tr style=\"text-align: right;\">\n",
       "      <th></th>\n",
       "      <th>title</th>\n",
       "      <th>link</th>\n",
       "      <th>time</th>\n",
       "      <th>contents</th>\n",
       "      <th>category</th>\n",
       "    </tr>\n",
       "    <tr>\n",
       "      <th>index</th>\n",
       "      <th></th>\n",
       "      <th></th>\n",
       "      <th></th>\n",
       "      <th></th>\n",
       "      <th></th>\n",
       "    </tr>\n",
       "  </thead>\n",
       "  <tbody>\n",
       "    <tr>\n",
       "      <th>1</th>\n",
       "      <td>윤 대통령은 “반국가 세력” 검찰총장이었나</td>\n",
       "      <td>https://n.news.naver.com/article/028/000264631...</td>\n",
       "      <td>2023-07-02 07:33:01</td>\n",
       "      <td>성한용 선임기자의 정치 막전막후 487말·생각·인사 모두 극우로 치닫는 윤문 전 대...</td>\n",
       "      <td>정치</td>\n",
       "    </tr>\n",
       "    <tr>\n",
       "      <th>2</th>\n",
       "      <td>이낙연, 이재명 작심 비판 “민주당 혁신 핵심은 도덕성·민주주의”</td>\n",
       "      <td>https://n.news.naver.com/article/028/000264635...</td>\n",
       "      <td>2023-07-02 15:55:03</td>\n",
       "      <td>이낙연 전 더불어민주당 대표가 2일 오전 광주 북구 국립 5·18 민주묘지를 참배하...</td>\n",
       "      <td>정치</td>\n",
       "    </tr>\n",
       "    <tr>\n",
       "      <th>3</th>\n",
       "      <td>민주 “쿠데타”-국힘 “마약 도취”…정치권 ‘막말 인플레이션’</td>\n",
       "      <td>https://n.news.naver.com/article/028/000264637...</td>\n",
       "      <td>2023-07-02 18:21:05</td>\n",
       "      <td>윤 대통령 “반국가 세력” 불 당기자민주 “사실상 쿠데타로 집권” 맞불김기현 “마약...</td>\n",
       "      <td>정치</td>\n",
       "    </tr>\n",
       "    <tr>\n",
       "      <th>4</th>\n",
       "      <td>김기현 “문재인 정부 ‘KBS·MBC 장악 시도’ 수사해야”</td>\n",
       "      <td>https://n.news.naver.com/article/028/000264640...</td>\n",
       "      <td>2023-07-02 21:51:01</td>\n",
       "      <td>김기현 국민의힘 대표가 지난 30일 국회에서 열린 청년정책네트워크 3호 정책 ‘개인...</td>\n",
       "      <td>정치</td>\n",
       "    </tr>\n",
       "    <tr>\n",
       "      <th>5</th>\n",
       "      <td>윤 대통령 “통일부, ‘북한지원부’ 아니다…이제는 달라져야”</td>\n",
       "      <td>https://n.news.naver.com/article/028/000264634...</td>\n",
       "      <td>2023-07-02 14:51:07</td>\n",
       "      <td>윤석열 대통령이 지난 28일 청와대 영빈관에서 열린 2023 국가재정전략회의에서 발...</td>\n",
       "      <td>정치</td>\n",
       "    </tr>\n",
       "    <tr>\n",
       "      <th>...</th>\n",
       "      <td>...</td>\n",
       "      <td>...</td>\n",
       "      <td>...</td>\n",
       "      <td>...</td>\n",
       "      <td>...</td>\n",
       "    </tr>\n",
       "    <tr>\n",
       "      <th>174</th>\n",
       "      <td>장모 구속·양평 땅 의혹 커지는데…대통령실, 특별감찰관 ‘모르쇠’</td>\n",
       "      <td>https://n.news.naver.com/article/028/000265044...</td>\n",
       "      <td>2023-07-31 18:17:05</td>\n",
       "      <td>윤석열 대통령과 김건희 여사가 유엔군 참전의 날 및 정전협정 70주년을 맞은 지난 ...</td>\n",
       "      <td>정치</td>\n",
       "    </tr>\n",
       "    <tr>\n",
       "      <th>175</th>\n",
       "      <td>윤 대통령, 다음달 2∼8일 여름휴가…‘저도의 추억’ 쌓는다</td>\n",
       "      <td>https://n.news.naver.com/article/028/000265040...</td>\n",
       "      <td>2023-07-31 15:59:05</td>\n",
       "      <td>윤석열 대통령이 27일 부산 중구 자갈치시장에서 장어를 직접 손으로 잡아 보며 즐거...</td>\n",
       "      <td>정치</td>\n",
       "    </tr>\n",
       "    <tr>\n",
       "      <th>176</th>\n",
       "      <td>‘윤 입맛대로’ 통일부 개악…어느 정부서도 볼 수 없던 퇴행</td>\n",
       "      <td>https://n.news.naver.com/article/028/000265032...</td>\n",
       "      <td>2023-07-30 20:03:09</td>\n",
       "      <td>김영호 신임 통일부 장관이 28일 정부서울청사에서 열린 취임식에서 취임사를 하고 있...</td>\n",
       "      <td>정치</td>\n",
       "    </tr>\n",
       "    <tr>\n",
       "      <th>177</th>\n",
       "      <td>“싸움꾼 있어야”…‘언론장악’ 이동관·김장겸 내세운 국힘의 속내</td>\n",
       "      <td>https://n.news.naver.com/article/028/000265042...</td>\n",
       "      <td>2023-07-31 17:09:01</td>\n",
       "      <td>이동관 방송통신위원장 후보자가 지난 28일 서울 용산 대통령실 브리핑룸에서 인사하고...</td>\n",
       "      <td>정치</td>\n",
       "    </tr>\n",
       "    <tr>\n",
       "      <th>178</th>\n",
       "      <td>이재명 “초부자감세로 곳간만 구멍”…‘3억 증여세 면제’ 반대</td>\n",
       "      <td>https://n.news.naver.com/article/028/000265035...</td>\n",
       "      <td>2023-07-31 10:59:01</td>\n",
       "      <td>이재명 더불어민주당 대표. 연합뉴스정부가 저출산대책으로 ‘신혼부부에게 최대 3억원까...</td>\n",
       "      <td>정치</td>\n",
       "    </tr>\n",
       "  </tbody>\n",
       "</table>\n",
       "<p>178 rows × 5 columns</p>\n",
       "</div>"
      ],
      "text/plain": [
       "                                      title  \\\n",
       "index                                         \n",
       "1                   윤 대통령은 “반국가 세력” 검찰총장이었나   \n",
       "2      이낙연, 이재명 작심 비판 “민주당 혁신 핵심은 도덕성·민주주의”   \n",
       "3        민주 “쿠데타”-국힘 “마약 도취”…정치권 ‘막말 인플레이션’   \n",
       "4         김기현 “문재인 정부 ‘KBS·MBC 장악 시도’ 수사해야”   \n",
       "5         윤 대통령 “통일부, ‘북한지원부’ 아니다…이제는 달라져야”   \n",
       "...                                     ...   \n",
       "174    장모 구속·양평 땅 의혹 커지는데…대통령실, 특별감찰관 ‘모르쇠’   \n",
       "175       윤 대통령, 다음달 2∼8일 여름휴가…‘저도의 추억’ 쌓는다   \n",
       "176       ‘윤 입맛대로’ 통일부 개악…어느 정부서도 볼 수 없던 퇴행   \n",
       "177     “싸움꾼 있어야”…‘언론장악’ 이동관·김장겸 내세운 국힘의 속내   \n",
       "178      이재명 “초부자감세로 곳간만 구멍”…‘3억 증여세 면제’ 반대   \n",
       "\n",
       "                                                    link                 time  \\\n",
       "index                                                                           \n",
       "1      https://n.news.naver.com/article/028/000264631...  2023-07-02 07:33:01   \n",
       "2      https://n.news.naver.com/article/028/000264635...  2023-07-02 15:55:03   \n",
       "3      https://n.news.naver.com/article/028/000264637...  2023-07-02 18:21:05   \n",
       "4      https://n.news.naver.com/article/028/000264640...  2023-07-02 21:51:01   \n",
       "5      https://n.news.naver.com/article/028/000264634...  2023-07-02 14:51:07   \n",
       "...                                                  ...                  ...   \n",
       "174    https://n.news.naver.com/article/028/000265044...  2023-07-31 18:17:05   \n",
       "175    https://n.news.naver.com/article/028/000265040...  2023-07-31 15:59:05   \n",
       "176    https://n.news.naver.com/article/028/000265032...  2023-07-30 20:03:09   \n",
       "177    https://n.news.naver.com/article/028/000265042...  2023-07-31 17:09:01   \n",
       "178    https://n.news.naver.com/article/028/000265035...  2023-07-31 10:59:01   \n",
       "\n",
       "                                                contents category  \n",
       "index                                                              \n",
       "1      성한용 선임기자의 정치 막전막후 487말·생각·인사 모두 극우로 치닫는 윤문 전 대...       정치  \n",
       "2      이낙연 전 더불어민주당 대표가 2일 오전 광주 북구 국립 5·18 민주묘지를 참배하...       정치  \n",
       "3      윤 대통령 “반국가 세력” 불 당기자민주 “사실상 쿠데타로 집권” 맞불김기현 “마약...       정치  \n",
       "4      김기현 국민의힘 대표가 지난 30일 국회에서 열린 청년정책네트워크 3호 정책 ‘개인...       정치  \n",
       "5      윤석열 대통령이 지난 28일 청와대 영빈관에서 열린 2023 국가재정전략회의에서 발...       정치  \n",
       "...                                                  ...      ...  \n",
       "174    윤석열 대통령과 김건희 여사가 유엔군 참전의 날 및 정전협정 70주년을 맞은 지난 ...       정치  \n",
       "175    윤석열 대통령이 27일 부산 중구 자갈치시장에서 장어를 직접 손으로 잡아 보며 즐거...       정치  \n",
       "176    김영호 신임 통일부 장관이 28일 정부서울청사에서 열린 취임식에서 취임사를 하고 있...       정치  \n",
       "177    이동관 방송통신위원장 후보자가 지난 28일 서울 용산 대통령실 브리핑룸에서 인사하고...       정치  \n",
       "178    이재명 더불어민주당 대표. 연합뉴스정부가 저출산대책으로 ‘신혼부부에게 최대 3억원까...       정치  \n",
       "\n",
       "[178 rows x 5 columns]"
      ]
     },
     "execution_count": 5,
     "metadata": {},
     "output_type": "execute_result"
    }
   ],
   "source": [
    "data = pd.read_csv('../data_crawling/news_final/hangyoreh_final.csv', index_col=0)\n",
    "# 중복기사 삭제\n",
    "data = data.drop_duplicates(subset='link', keep='first')\n",
    "\n",
    "# 3월 데이터만 가져오기\n",
    "hangyoreh3 = data[data['time'].str.startswith(('2023-03'))]\n",
    "hangyoreh3['index'] = range(len(hangyoreh3))\n",
    "\n",
    "# 'index' 칸을 DataFrame의 인덱스로 지정\n",
    "hangyoreh3 = hangyoreh3.set_index('index')\n",
    "hangyoreh3.index = hangyoreh3.index+1\n",
    "hangyoreh3"
   ]
  },
  {
   "cell_type": "code",
   "execution_count": 6,
   "id": "17f7a50f",
   "metadata": {},
   "outputs": [
    {
     "data": {
      "text/plain": [
       "index\n",
       "1      https://n.news.naver.com/article/028/000264631...\n",
       "2      https://n.news.naver.com/article/028/000264635...\n",
       "3      https://n.news.naver.com/article/028/000264637...\n",
       "4      https://n.news.naver.com/article/028/000264640...\n",
       "5      https://n.news.naver.com/article/028/000264634...\n",
       "                             ...                        \n",
       "174    https://n.news.naver.com/article/028/000265044...\n",
       "175    https://n.news.naver.com/article/028/000265040...\n",
       "176    https://n.news.naver.com/article/028/000265032...\n",
       "177    https://n.news.naver.com/article/028/000265042...\n",
       "178    https://n.news.naver.com/article/028/000265035...\n",
       "Name: link, Length: 178, dtype: object"
      ]
     },
     "execution_count": 6,
     "metadata": {},
     "output_type": "execute_result"
    }
   ],
   "source": [
    "hangyoreh3['link']"
   ]
  },
  {
   "cell_type": "code",
   "execution_count": 7,
   "id": "e543aae3",
   "metadata": {
    "scrolled": true
   },
   "outputs": [
    {
     "name": "stderr",
     "output_type": "stream",
     "text": [
      "\r",
      "  0%|          | 0/178 [00:00<?, ?it/s]"
     ]
    },
    {
     "name": "stdout",
     "output_type": "stream",
     "text": [
      "Saved comments and replies for link 1\n"
     ]
    },
    {
     "name": "stderr",
     "output_type": "stream",
     "text": [
      "\r",
      "  1%|          | 1/178 [01:20<3:56:49, 80.28s/it]"
     ]
    },
    {
     "name": "stdout",
     "output_type": "stream",
     "text": [
      "Saved comments and replies for link 2\n"
     ]
    },
    {
     "name": "stderr",
     "output_type": "stream",
     "text": [
      "  2%|▏         | 3/178 [02:47<2:30:13, 51.51s/it]"
     ]
    },
    {
     "name": "stdout",
     "output_type": "stream",
     "text": [
      "Saved comments and replies for link 3\n",
      "Saved comments and replies for link 4\n"
     ]
    },
    {
     "name": "stderr",
     "output_type": "stream",
     "text": [
      "\r",
      "  2%|▏         | 4/178 [03:07<1:52:39, 38.85s/it]"
     ]
    },
    {
     "name": "stdout",
     "output_type": "stream",
     "text": [
      "Saved comments and replies for link 5\n"
     ]
    },
    {
     "name": "stderr",
     "output_type": "stream",
     "text": [
      "  3%|▎         | 6/178 [03:28<1:03:04, 22.00s/it]"
     ]
    },
    {
     "name": "stdout",
     "output_type": "stream",
     "text": [
      "Saved comments and replies for link 6\n",
      "Saved comments and replies for link 7\n"
     ]
    },
    {
     "name": "stderr",
     "output_type": "stream",
     "text": [
      "\r",
      "  4%|▍         | 7/178 [04:36<1:46:16, 37.29s/it]"
     ]
    },
    {
     "name": "stdout",
     "output_type": "stream",
     "text": [
      "Saved comments and replies for link 8\n"
     ]
    },
    {
     "name": "stderr",
     "output_type": "stream",
     "text": [
      "\r",
      "  4%|▍         | 8/178 [05:00<1:33:46, 33.10s/it]"
     ]
    },
    {
     "name": "stdout",
     "output_type": "stream",
     "text": [
      "Saved comments and replies for link 9\n"
     ]
    },
    {
     "name": "stderr",
     "output_type": "stream",
     "text": [
      "\r",
      "  5%|▌         | 9/178 [05:30<1:29:48, 31.88s/it]"
     ]
    },
    {
     "name": "stdout",
     "output_type": "stream",
     "text": [
      "Saved comments and replies for link 10\n"
     ]
    },
    {
     "name": "stderr",
     "output_type": "stream",
     "text": [
      "\r",
      "  6%|▌         | 10/178 [05:42<1:12:04, 25.74s/it]"
     ]
    },
    {
     "name": "stdout",
     "output_type": "stream",
     "text": [
      "Saved comments and replies for link 11\n"
     ]
    },
    {
     "name": "stderr",
     "output_type": "stream",
     "text": [
      "\r",
      "  6%|▌         | 11/178 [05:57<1:02:57, 22.62s/it]"
     ]
    },
    {
     "name": "stdout",
     "output_type": "stream",
     "text": [
      "Saved comments and replies for link 12\n"
     ]
    },
    {
     "name": "stderr",
     "output_type": "stream",
     "text": [
      "\r",
      "  7%|▋         | 12/178 [06:07<52:09, 18.85s/it]  "
     ]
    },
    {
     "name": "stdout",
     "output_type": "stream",
     "text": [
      "Saved comments and replies for link 13\n"
     ]
    },
    {
     "name": "stderr",
     "output_type": "stream",
     "text": [
      "\r",
      "  7%|▋         | 13/178 [06:14<41:53, 15.23s/it]"
     ]
    },
    {
     "name": "stdout",
     "output_type": "stream",
     "text": [
      "Saved comments and replies for link 14\n"
     ]
    },
    {
     "name": "stderr",
     "output_type": "stream",
     "text": [
      "\r",
      "  8%|▊         | 14/178 [06:22<35:01, 12.81s/it]"
     ]
    },
    {
     "name": "stdout",
     "output_type": "stream",
     "text": [
      "Saved comments and replies for link 15\n"
     ]
    },
    {
     "name": "stderr",
     "output_type": "stream",
     "text": [
      "\r",
      "  8%|▊         | 15/178 [06:30<30:56, 11.39s/it]"
     ]
    },
    {
     "name": "stdout",
     "output_type": "stream",
     "text": [
      "Saved comments and replies for link 16\n"
     ]
    },
    {
     "name": "stderr",
     "output_type": "stream",
     "text": [
      "\r",
      "  9%|▉         | 16/178 [06:58<44:20, 16.42s/it]"
     ]
    },
    {
     "name": "stdout",
     "output_type": "stream",
     "text": [
      "Saved comments and replies for link 17\n"
     ]
    },
    {
     "name": "stderr",
     "output_type": "stream",
     "text": [
      "\r",
      " 10%|▉         | 17/178 [07:18<46:57, 17.50s/it]"
     ]
    },
    {
     "name": "stdout",
     "output_type": "stream",
     "text": [
      "Saved comments and replies for link 18\n"
     ]
    },
    {
     "name": "stderr",
     "output_type": "stream",
     "text": [
      "\r",
      " 10%|█         | 18/178 [07:32<44:04, 16.53s/it]"
     ]
    },
    {
     "name": "stdout",
     "output_type": "stream",
     "text": [
      "Saved comments and replies for link 19\n"
     ]
    },
    {
     "name": "stderr",
     "output_type": "stream",
     "text": [
      "\r",
      " 11%|█         | 19/178 [07:41<37:35, 14.18s/it]"
     ]
    },
    {
     "name": "stdout",
     "output_type": "stream",
     "text": [
      "Saved comments and replies for link 20\n"
     ]
    },
    {
     "name": "stderr",
     "output_type": "stream",
     "text": [
      " 12%|█▏        | 21/178 [07:50<23:54,  9.14s/it]"
     ]
    },
    {
     "name": "stdout",
     "output_type": "stream",
     "text": [
      "Saved comments and replies for link 21\n",
      "Saved comments and replies for link 22\n"
     ]
    },
    {
     "name": "stderr",
     "output_type": "stream",
     "text": [
      "\r",
      " 12%|█▏        | 22/178 [08:07<29:50, 11.48s/it]"
     ]
    },
    {
     "name": "stdout",
     "output_type": "stream",
     "text": [
      "Saved comments and replies for link 23\n"
     ]
    },
    {
     "name": "stderr",
     "output_type": "stream",
     "text": [
      "\r",
      " 13%|█▎        | 23/178 [08:22<31:50, 12.32s/it]"
     ]
    },
    {
     "name": "stdout",
     "output_type": "stream",
     "text": [
      "Saved comments and replies for link 24\n"
     ]
    },
    {
     "name": "stderr",
     "output_type": "stream",
     "text": [
      "\r",
      " 13%|█▎        | 24/178 [08:33<30:59, 12.08s/it]"
     ]
    },
    {
     "name": "stdout",
     "output_type": "stream",
     "text": [
      "Saved comments and replies for link 25\n"
     ]
    },
    {
     "name": "stderr",
     "output_type": "stream",
     "text": [
      "\r",
      " 14%|█▍        | 25/178 [08:43<29:14, 11.47s/it]"
     ]
    },
    {
     "name": "stdout",
     "output_type": "stream",
     "text": [
      "Saved comments and replies for link 26\n"
     ]
    },
    {
     "name": "stderr",
     "output_type": "stream",
     "text": [
      "\r",
      " 15%|█▍        | 26/178 [10:42<1:50:48, 43.74s/it]"
     ]
    },
    {
     "name": "stdout",
     "output_type": "stream",
     "text": [
      "Saved comments and replies for link 27\n"
     ]
    },
    {
     "name": "stderr",
     "output_type": "stream",
     "text": [
      "\r",
      " 15%|█▌        | 27/178 [11:13<1:40:28, 39.92s/it]"
     ]
    },
    {
     "name": "stdout",
     "output_type": "stream",
     "text": [
      "Saved comments and replies for link 28\n"
     ]
    },
    {
     "name": "stderr",
     "output_type": "stream",
     "text": [
      "\r",
      " 16%|█▌        | 28/178 [11:32<1:24:18, 33.72s/it]"
     ]
    },
    {
     "name": "stdout",
     "output_type": "stream",
     "text": [
      "Saved comments and replies for link 29\n"
     ]
    },
    {
     "name": "stderr",
     "output_type": "stream",
     "text": [
      "\r",
      " 16%|█▋        | 29/178 [11:49<1:11:12, 28.67s/it]"
     ]
    },
    {
     "name": "stdout",
     "output_type": "stream",
     "text": [
      "Saved comments and replies for link 30\n"
     ]
    },
    {
     "name": "stderr",
     "output_type": "stream",
     "text": [
      "\r",
      " 17%|█▋        | 30/178 [12:36<1:24:10, 34.12s/it]"
     ]
    },
    {
     "name": "stdout",
     "output_type": "stream",
     "text": [
      "Saved comments and replies for link 31\n"
     ]
    },
    {
     "name": "stderr",
     "output_type": "stream",
     "text": [
      "\r",
      " 17%|█▋        | 31/178 [12:45<1:04:41, 26.40s/it]"
     ]
    },
    {
     "name": "stdout",
     "output_type": "stream",
     "text": [
      "Saved comments and replies for link 32\n"
     ]
    },
    {
     "name": "stderr",
     "output_type": "stream",
     "text": [
      "\r",
      " 18%|█▊        | 32/178 [14:38<2:07:29, 52.39s/it]"
     ]
    },
    {
     "name": "stdout",
     "output_type": "stream",
     "text": [
      "Saved comments and replies for link 33\n"
     ]
    },
    {
     "name": "stderr",
     "output_type": "stream",
     "text": [
      "\r",
      " 19%|█▊        | 33/178 [15:29<2:06:07, 52.19s/it]"
     ]
    },
    {
     "name": "stdout",
     "output_type": "stream",
     "text": [
      "Saved comments and replies for link 34\n"
     ]
    },
    {
     "name": "stderr",
     "output_type": "stream",
     "text": [
      "\r",
      " 19%|█▉        | 34/178 [16:54<2:28:26, 61.85s/it]"
     ]
    },
    {
     "name": "stdout",
     "output_type": "stream",
     "text": [
      "Saved comments and replies for link 35\n"
     ]
    },
    {
     "name": "stderr",
     "output_type": "stream",
     "text": [
      "\r",
      " 20%|█▉        | 35/178 [17:36<2:13:13, 55.90s/it]"
     ]
    },
    {
     "name": "stdout",
     "output_type": "stream",
     "text": [
      "Saved comments and replies for link 36\n"
     ]
    },
    {
     "name": "stderr",
     "output_type": "stream",
     "text": [
      "\r",
      " 20%|██        | 36/178 [18:06<1:54:05, 48.21s/it]"
     ]
    },
    {
     "name": "stdout",
     "output_type": "stream",
     "text": [
      "Saved comments and replies for link 37\n"
     ]
    },
    {
     "name": "stderr",
     "output_type": "stream",
     "text": [
      "\r",
      " 21%|██        | 37/178 [18:23<1:31:27, 38.92s/it]"
     ]
    },
    {
     "name": "stdout",
     "output_type": "stream",
     "text": [
      "Saved comments and replies for link 38\n"
     ]
    },
    {
     "name": "stderr",
     "output_type": "stream",
     "text": [
      "\r",
      " 21%|██▏       | 38/178 [18:28<1:07:11, 28.80s/it]"
     ]
    },
    {
     "name": "stdout",
     "output_type": "stream",
     "text": [
      "Saved comments and replies for link 39\n"
     ]
    },
    {
     "name": "stderr",
     "output_type": "stream",
     "text": [
      "\r",
      " 22%|██▏       | 39/178 [19:38<1:34:51, 40.94s/it]"
     ]
    },
    {
     "name": "stdout",
     "output_type": "stream",
     "text": [
      "Saved comments and replies for link 40\n"
     ]
    },
    {
     "name": "stderr",
     "output_type": "stream",
     "text": [
      "\r",
      " 22%|██▏       | 40/178 [20:28<1:40:46, 43.82s/it]"
     ]
    },
    {
     "name": "stdout",
     "output_type": "stream",
     "text": [
      "Saved comments and replies for link 41\n"
     ]
    },
    {
     "name": "stderr",
     "output_type": "stream",
     "text": [
      "\r",
      " 23%|██▎       | 41/178 [21:40<1:59:10, 52.20s/it]"
     ]
    },
    {
     "name": "stdout",
     "output_type": "stream",
     "text": [
      "Saved comments and replies for link 42\n"
     ]
    },
    {
     "name": "stderr",
     "output_type": "stream",
     "text": [
      "\r",
      " 24%|██▎       | 42/178 [21:46<1:27:00, 38.38s/it]"
     ]
    },
    {
     "name": "stdout",
     "output_type": "stream",
     "text": [
      "Saved comments and replies for link 43\n"
     ]
    },
    {
     "name": "stderr",
     "output_type": "stream",
     "text": [
      "\r",
      " 24%|██▍       | 43/178 [21:49<1:02:31, 27.79s/it]"
     ]
    },
    {
     "name": "stdout",
     "output_type": "stream",
     "text": [
      "Saved comments and replies for link 44\n"
     ]
    },
    {
     "name": "stderr",
     "output_type": "stream",
     "text": [
      "\r",
      " 25%|██▍       | 44/178 [22:09<56:53, 25.47s/it]  "
     ]
    },
    {
     "name": "stdout",
     "output_type": "stream",
     "text": [
      "Saved comments and replies for link 45\n"
     ]
    },
    {
     "name": "stderr",
     "output_type": "stream",
     "text": [
      "\r",
      " 25%|██▌       | 45/178 [22:26<50:19, 22.70s/it]"
     ]
    },
    {
     "name": "stdout",
     "output_type": "stream",
     "text": [
      "Saved comments and replies for link 46\n"
     ]
    },
    {
     "name": "stderr",
     "output_type": "stream",
     "text": [
      "\r",
      " 26%|██▌       | 46/178 [22:39<44:02, 20.02s/it]"
     ]
    },
    {
     "name": "stdout",
     "output_type": "stream",
     "text": [
      "Saved comments and replies for link 47\n"
     ]
    },
    {
     "name": "stderr",
     "output_type": "stream",
     "text": [
      "\r",
      " 26%|██▋       | 47/178 [22:49<36:59, 16.94s/it]"
     ]
    },
    {
     "name": "stdout",
     "output_type": "stream",
     "text": [
      "Saved comments and replies for link 48\n"
     ]
    },
    {
     "name": "stderr",
     "output_type": "stream",
     "text": [
      "\r",
      " 27%|██▋       | 48/178 [22:59<32:13, 14.87s/it]"
     ]
    },
    {
     "name": "stdout",
     "output_type": "stream",
     "text": [
      "Saved comments and replies for link 49\n"
     ]
    },
    {
     "name": "stderr",
     "output_type": "stream",
     "text": [
      "\r",
      " 28%|██▊       | 49/178 [23:05<26:27, 12.31s/it]"
     ]
    },
    {
     "name": "stdout",
     "output_type": "stream",
     "text": [
      "Saved comments and replies for link 50\n"
     ]
    },
    {
     "name": "stderr",
     "output_type": "stream",
     "text": [
      "\r",
      " 28%|██▊       | 50/178 [23:20<27:41, 12.98s/it]"
     ]
    },
    {
     "name": "stdout",
     "output_type": "stream",
     "text": [
      "Saved comments and replies for link 51\n"
     ]
    },
    {
     "name": "stderr",
     "output_type": "stream",
     "text": [
      " 29%|██▉       | 52/178 [23:58<33:53, 16.14s/it]"
     ]
    },
    {
     "name": "stdout",
     "output_type": "stream",
     "text": [
      "Saved comments and replies for link 52\n",
      "Saved comments and replies for link 53\n"
     ]
    },
    {
     "name": "stderr",
     "output_type": "stream",
     "text": [
      "\r",
      " 30%|██▉       | 53/178 [24:08<29:27, 14.14s/it]"
     ]
    },
    {
     "name": "stdout",
     "output_type": "stream",
     "text": [
      "Saved comments and replies for link 54\n"
     ]
    },
    {
     "name": "stderr",
     "output_type": "stream",
     "text": [
      "\r",
      " 30%|███       | 54/178 [24:12<23:29, 11.37s/it]"
     ]
    },
    {
     "name": "stdout",
     "output_type": "stream",
     "text": [
      "Saved comments and replies for link 55\n"
     ]
    },
    {
     "name": "stderr",
     "output_type": "stream",
     "text": [
      "\r",
      " 31%|███       | 55/178 [24:53<40:59, 19.99s/it]"
     ]
    },
    {
     "name": "stdout",
     "output_type": "stream",
     "text": [
      "Saved comments and replies for link 56\n"
     ]
    },
    {
     "name": "stderr",
     "output_type": "stream",
     "text": [
      "\r",
      " 31%|███▏      | 56/178 [25:03<34:39, 17.05s/it]"
     ]
    },
    {
     "name": "stdout",
     "output_type": "stream",
     "text": [
      "Saved comments and replies for link 57\n"
     ]
    },
    {
     "name": "stderr",
     "output_type": "stream",
     "text": [
      "\r",
      " 32%|███▏      | 57/178 [25:11<28:54, 14.34s/it]"
     ]
    },
    {
     "name": "stdout",
     "output_type": "stream",
     "text": [
      "Saved comments and replies for link 58\n"
     ]
    },
    {
     "name": "stderr",
     "output_type": "stream",
     "text": [
      "\r",
      " 33%|███▎      | 58/178 [25:22<26:47, 13.39s/it]"
     ]
    },
    {
     "name": "stdout",
     "output_type": "stream",
     "text": [
      "Saved comments and replies for link 59\n"
     ]
    },
    {
     "name": "stderr",
     "output_type": "stream",
     "text": [
      "\r",
      " 33%|███▎      | 59/178 [25:30<23:18, 11.75s/it]"
     ]
    },
    {
     "name": "stdout",
     "output_type": "stream",
     "text": [
      "Saved comments and replies for link 60\n"
     ]
    },
    {
     "name": "stderr",
     "output_type": "stream",
     "text": [
      "\r",
      " 34%|███▎      | 60/178 [26:52<1:04:37, 32.86s/it]"
     ]
    },
    {
     "name": "stdout",
     "output_type": "stream",
     "text": [
      "Saved comments and replies for link 61\n"
     ]
    },
    {
     "name": "stderr",
     "output_type": "stream",
     "text": [
      "\r",
      " 34%|███▍      | 61/178 [27:09<55:04, 28.24s/it]  "
     ]
    },
    {
     "name": "stdout",
     "output_type": "stream",
     "text": [
      "Saved comments and replies for link 62\n"
     ]
    },
    {
     "name": "stderr",
     "output_type": "stream",
     "text": [
      " 35%|███▌      | 63/178 [28:34<1:02:02, 32.37s/it]"
     ]
    },
    {
     "name": "stdout",
     "output_type": "stream",
     "text": [
      "Saved comments and replies for link 63\n",
      "Saved comments and replies for link 64\n"
     ]
    },
    {
     "name": "stderr",
     "output_type": "stream",
     "text": [
      "\r",
      " 36%|███▌      | 64/178 [28:58<56:34, 29.78s/it]  "
     ]
    },
    {
     "name": "stdout",
     "output_type": "stream",
     "text": [
      "Saved comments and replies for link 65\n"
     ]
    },
    {
     "name": "stderr",
     "output_type": "stream",
     "text": [
      "\r",
      " 37%|███▋      | 65/178 [29:06<43:52, 23.29s/it]"
     ]
    },
    {
     "name": "stdout",
     "output_type": "stream",
     "text": [
      "Saved comments and replies for link 66\n"
     ]
    },
    {
     "name": "stderr",
     "output_type": "stream",
     "text": [
      "\r",
      " 37%|███▋      | 66/178 [32:00<2:07:51, 68.49s/it]"
     ]
    },
    {
     "name": "stdout",
     "output_type": "stream",
     "text": [
      "Saved comments and replies for link 67\n"
     ]
    },
    {
     "name": "stderr",
     "output_type": "stream",
     "text": [
      "\r",
      " 38%|███▊      | 67/178 [33:22<2:14:13, 72.55s/it]"
     ]
    },
    {
     "name": "stdout",
     "output_type": "stream",
     "text": [
      "Saved comments and replies for link 68\n"
     ]
    },
    {
     "name": "stderr",
     "output_type": "stream",
     "text": [
      "\r",
      " 38%|███▊      | 68/178 [33:54<1:50:41, 60.38s/it]"
     ]
    },
    {
     "name": "stdout",
     "output_type": "stream",
     "text": [
      "Saved comments and replies for link 69\n"
     ]
    },
    {
     "name": "stderr",
     "output_type": "stream",
     "text": [
      "\r",
      " 39%|███▉      | 69/178 [36:07<2:29:13, 82.14s/it]"
     ]
    },
    {
     "name": "stdout",
     "output_type": "stream",
     "text": [
      "Saved comments and replies for link 70\n"
     ]
    },
    {
     "name": "stderr",
     "output_type": "stream",
     "text": [
      "\r",
      " 39%|███▉      | 70/178 [36:42<2:02:49, 68.23s/it]"
     ]
    },
    {
     "name": "stdout",
     "output_type": "stream",
     "text": [
      "Saved comments and replies for link 71\n"
     ]
    },
    {
     "name": "stderr",
     "output_type": "stream",
     "text": [
      "\r",
      " 40%|███▉      | 71/178 [37:07<1:38:19, 55.13s/it]"
     ]
    },
    {
     "name": "stdout",
     "output_type": "stream",
     "text": [
      "Saved comments and replies for link 72\n"
     ]
    },
    {
     "name": "stderr",
     "output_type": "stream",
     "text": [
      "\r",
      " 40%|████      | 72/178 [37:21<1:15:42, 42.85s/it]"
     ]
    },
    {
     "name": "stdout",
     "output_type": "stream",
     "text": [
      "Saved comments and replies for link 73\n"
     ]
    },
    {
     "name": "stderr",
     "output_type": "stream",
     "text": [
      "\r",
      " 41%|████      | 73/178 [37:31<57:31, 32.87s/it]  "
     ]
    },
    {
     "name": "stdout",
     "output_type": "stream",
     "text": [
      "Saved comments and replies for link 74\n"
     ]
    },
    {
     "name": "stderr",
     "output_type": "stream",
     "text": [
      " 42%|████▏     | 75/178 [38:39<1:00:37, 35.31s/it]"
     ]
    },
    {
     "name": "stdout",
     "output_type": "stream",
     "text": [
      "Saved comments and replies for link 75\n",
      "Saved comments and replies for link 76\n"
     ]
    },
    {
     "name": "stderr",
     "output_type": "stream",
     "text": [
      "\r",
      " 43%|████▎     | 76/178 [40:49<1:48:32, 63.85s/it]"
     ]
    },
    {
     "name": "stdout",
     "output_type": "stream",
     "text": [
      "Saved comments and replies for link 77\n"
     ]
    },
    {
     "name": "stderr",
     "output_type": "stream",
     "text": [
      "\r",
      " 43%|████▎     | 77/178 [42:17<1:59:41, 71.11s/it]"
     ]
    },
    {
     "name": "stdout",
     "output_type": "stream",
     "text": [
      "Saved comments and replies for link 78\n"
     ]
    },
    {
     "name": "stderr",
     "output_type": "stream",
     "text": [
      "\r",
      " 44%|████▍     | 78/178 [42:43<1:35:42, 57.43s/it]"
     ]
    },
    {
     "name": "stdout",
     "output_type": "stream",
     "text": [
      "Saved comments and replies for link 79\n"
     ]
    },
    {
     "name": "stderr",
     "output_type": "stream",
     "text": [
      "\r",
      " 44%|████▍     | 79/178 [43:09<1:19:18, 48.06s/it]"
     ]
    },
    {
     "name": "stdout",
     "output_type": "stream",
     "text": [
      "Saved comments and replies for link 80\n"
     ]
    },
    {
     "name": "stderr",
     "output_type": "stream",
     "text": [
      "\r",
      " 45%|████▍     | 80/178 [43:23<1:01:58, 37.94s/it]"
     ]
    },
    {
     "name": "stdout",
     "output_type": "stream",
     "text": [
      "Saved comments and replies for link 81\n"
     ]
    },
    {
     "name": "stderr",
     "output_type": "stream",
     "text": [
      "\r",
      " 46%|████▌     | 81/178 [43:34<48:16, 29.86s/it]  "
     ]
    },
    {
     "name": "stdout",
     "output_type": "stream",
     "text": [
      "Saved comments and replies for link 82\n"
     ]
    },
    {
     "name": "stderr",
     "output_type": "stream",
     "text": [
      "\r",
      " 46%|████▌     | 82/178 [43:43<37:36, 23.51s/it]"
     ]
    },
    {
     "name": "stdout",
     "output_type": "stream",
     "text": [
      "Saved comments and replies for link 83\n"
     ]
    },
    {
     "name": "stderr",
     "output_type": "stream",
     "text": [
      "\r",
      " 47%|████▋     | 83/178 [46:15<1:38:22, 62.14s/it]"
     ]
    },
    {
     "name": "stdout",
     "output_type": "stream",
     "text": [
      "Saved comments and replies for link 84\n"
     ]
    },
    {
     "name": "stderr",
     "output_type": "stream",
     "text": [
      " 48%|████▊     | 85/178 [48:31<1:39:40, 64.31s/it]"
     ]
    },
    {
     "name": "stdout",
     "output_type": "stream",
     "text": [
      "Saved comments and replies for link 85\n",
      "Saved comments and replies for link 86\n"
     ]
    },
    {
     "name": "stderr",
     "output_type": "stream",
     "text": [
      "\r",
      " 48%|████▊     | 86/178 [49:06<1:25:22, 55.68s/it]"
     ]
    },
    {
     "name": "stdout",
     "output_type": "stream",
     "text": [
      "Saved comments and replies for link 87\n"
     ]
    },
    {
     "name": "stderr",
     "output_type": "stream",
     "text": [
      "\r",
      " 49%|████▉     | 87/178 [49:39<1:13:57, 48.77s/it]"
     ]
    },
    {
     "name": "stdout",
     "output_type": "stream",
     "text": [
      "Saved comments and replies for link 88\n"
     ]
    },
    {
     "name": "stderr",
     "output_type": "stream",
     "text": [
      "\r",
      " 49%|████▉     | 88/178 [50:07<1:03:54, 42.60s/it]"
     ]
    },
    {
     "name": "stdout",
     "output_type": "stream",
     "text": [
      "Saved comments and replies for link 89\n"
     ]
    },
    {
     "name": "stderr",
     "output_type": "stream",
     "text": [
      "\r",
      " 50%|█████     | 89/178 [50:38<58:05, 39.17s/it]  "
     ]
    },
    {
     "name": "stdout",
     "output_type": "stream",
     "text": [
      "Saved comments and replies for link 90\n"
     ]
    },
    {
     "name": "stderr",
     "output_type": "stream",
     "text": [
      " 51%|█████     | 91/178 [51:27<45:42, 31.53s/it]"
     ]
    },
    {
     "name": "stdout",
     "output_type": "stream",
     "text": [
      "Saved comments and replies for link 91\n"
     ]
    },
    {
     "name": "stderr",
     "output_type": "stream",
     "text": [
      "\r",
      " 52%|█████▏    | 92/178 [51:37<36:10, 25.23s/it]"
     ]
    },
    {
     "name": "stdout",
     "output_type": "stream",
     "text": [
      "Saved comments and replies for link 92\n",
      "Saved comments and replies for link 93\n"
     ]
    },
    {
     "name": "stderr",
     "output_type": "stream",
     "text": [
      "\r",
      " 52%|█████▏    | 93/178 [52:47<54:24, 38.41s/it]"
     ]
    },
    {
     "name": "stdout",
     "output_type": "stream",
     "text": [
      "Saved comments and replies for link 94\n"
     ]
    },
    {
     "name": "stderr",
     "output_type": "stream",
     "text": [
      "\r",
      " 53%|█████▎    | 94/178 [53:46<1:02:45, 44.83s/it]"
     ]
    },
    {
     "name": "stdout",
     "output_type": "stream",
     "text": [
      "Saved comments and replies for link 95\n"
     ]
    },
    {
     "name": "stderr",
     "output_type": "stream",
     "text": [
      " 54%|█████▍    | 96/178 [56:35<1:24:34, 61.88s/it]"
     ]
    },
    {
     "name": "stdout",
     "output_type": "stream",
     "text": [
      "Saved comments and replies for link 96\n",
      "Saved comments and replies for link 97\n"
     ]
    },
    {
     "name": "stderr",
     "output_type": "stream",
     "text": [
      "\r",
      " 54%|█████▍    | 97/178 [56:58<1:07:47, 50.21s/it]"
     ]
    },
    {
     "name": "stdout",
     "output_type": "stream",
     "text": [
      "Saved comments and replies for link 98\n"
     ]
    },
    {
     "name": "stderr",
     "output_type": "stream",
     "text": [
      "\r",
      " 55%|█████▌    | 98/178 [57:13<53:13, 39.92s/it]  "
     ]
    },
    {
     "name": "stdout",
     "output_type": "stream",
     "text": [
      "Saved comments and replies for link 99\n"
     ]
    },
    {
     "name": "stderr",
     "output_type": "stream",
     "text": [
      "\r",
      " 56%|█████▌    | 99/178 [57:20<39:23, 29.92s/it]"
     ]
    },
    {
     "name": "stdout",
     "output_type": "stream",
     "text": [
      "Saved comments and replies for link 100\n"
     ]
    },
    {
     "name": "stderr",
     "output_type": "stream",
     "text": [
      "\r",
      " 56%|█████▌    | 100/178 [57:28<30:30, 23.47s/it]"
     ]
    },
    {
     "name": "stdout",
     "output_type": "stream",
     "text": [
      "Saved comments and replies for link 101\n"
     ]
    },
    {
     "name": "stderr",
     "output_type": "stream",
     "text": [
      "\r",
      " 57%|█████▋    | 101/178 [58:35<46:42, 36.39s/it]"
     ]
    },
    {
     "name": "stdout",
     "output_type": "stream",
     "text": [
      "Saved comments and replies for link 102\n"
     ]
    },
    {
     "name": "stderr",
     "output_type": "stream",
     "text": [
      "\r",
      " 57%|█████▋    | 102/178 [59:12<46:18, 36.56s/it]"
     ]
    },
    {
     "name": "stdout",
     "output_type": "stream",
     "text": [
      "Saved comments and replies for link 103\n"
     ]
    },
    {
     "name": "stderr",
     "output_type": "stream",
     "text": [
      "\r",
      " 58%|█████▊    | 103/178 [59:51<46:30, 37.20s/it]"
     ]
    },
    {
     "name": "stdout",
     "output_type": "stream",
     "text": [
      "Saved comments and replies for link 104\n"
     ]
    },
    {
     "name": "stderr",
     "output_type": "stream",
     "text": [
      "\r",
      " 58%|█████▊    | 104/178 [1:00:11<39:46, 32.26s/it]"
     ]
    },
    {
     "name": "stdout",
     "output_type": "stream",
     "text": [
      "Saved comments and replies for link 105\n"
     ]
    },
    {
     "name": "stderr",
     "output_type": "stream",
     "text": [
      "\r",
      " 59%|█████▉    | 105/178 [1:00:31<34:45, 28.57s/it]"
     ]
    },
    {
     "name": "stdout",
     "output_type": "stream",
     "text": [
      "Saved comments and replies for link 106\n"
     ]
    },
    {
     "name": "stderr",
     "output_type": "stream",
     "text": [
      "\r",
      " 60%|█████▉    | 106/178 [1:00:45<28:52, 24.06s/it]"
     ]
    },
    {
     "name": "stdout",
     "output_type": "stream",
     "text": [
      "Saved comments and replies for link 107\n"
     ]
    },
    {
     "name": "stderr",
     "output_type": "stream",
     "text": [
      "\r",
      " 60%|██████    | 107/178 [1:00:58<24:34, 20.77s/it]"
     ]
    },
    {
     "name": "stdout",
     "output_type": "stream",
     "text": [
      "Saved comments and replies for link 108\n"
     ]
    },
    {
     "name": "stderr",
     "output_type": "stream",
     "text": [
      "\r",
      " 61%|██████    | 108/178 [1:01:10<21:13, 18.19s/it]"
     ]
    },
    {
     "name": "stdout",
     "output_type": "stream",
     "text": [
      "Saved comments and replies for link 109\n"
     ]
    },
    {
     "name": "stderr",
     "output_type": "stream",
     "text": [
      "\r",
      " 61%|██████    | 109/178 [1:01:23<19:08, 16.64s/it]"
     ]
    },
    {
     "name": "stdout",
     "output_type": "stream",
     "text": [
      "Saved comments and replies for link 110\n"
     ]
    },
    {
     "name": "stderr",
     "output_type": "stream",
     "text": [
      " 62%|██████▏   | 111/178 [1:02:45<35:53, 32.15s/it]"
     ]
    },
    {
     "name": "stdout",
     "output_type": "stream",
     "text": [
      "Saved comments and replies for link 111\n",
      "Saved comments and replies for link 112\n"
     ]
    },
    {
     "name": "stderr",
     "output_type": "stream",
     "text": [
      "\r",
      " 63%|██████▎   | 112/178 [1:04:47<1:04:58, 59.06s/it]"
     ]
    },
    {
     "name": "stdout",
     "output_type": "stream",
     "text": [
      "Saved comments and replies for link 113\n"
     ]
    },
    {
     "name": "stderr",
     "output_type": "stream",
     "text": [
      "\r",
      " 63%|██████▎   | 113/178 [1:05:12<52:49, 48.76s/it]  "
     ]
    },
    {
     "name": "stdout",
     "output_type": "stream",
     "text": [
      "Saved comments and replies for link 114\n"
     ]
    },
    {
     "name": "stderr",
     "output_type": "stream",
     "text": [
      "\r",
      " 64%|██████▍   | 114/178 [1:06:18<57:37, 54.03s/it]"
     ]
    },
    {
     "name": "stdout",
     "output_type": "stream",
     "text": [
      "Saved comments and replies for link 115\n"
     ]
    },
    {
     "name": "stderr",
     "output_type": "stream",
     "text": [
      "\r",
      " 65%|██████▍   | 115/178 [1:06:36<45:15, 43.10s/it]"
     ]
    },
    {
     "name": "stdout",
     "output_type": "stream",
     "text": [
      "Saved comments and replies for link 116\n"
     ]
    },
    {
     "name": "stderr",
     "output_type": "stream",
     "text": [
      "\r",
      " 65%|██████▌   | 116/178 [1:06:49<35:04, 33.95s/it]"
     ]
    },
    {
     "name": "stdout",
     "output_type": "stream",
     "text": [
      "Saved comments and replies for link 117\n"
     ]
    },
    {
     "name": "stderr",
     "output_type": "stream",
     "text": [
      "\r",
      " 66%|██████▌   | 117/178 [1:06:55<26:04, 25.65s/it]"
     ]
    },
    {
     "name": "stdout",
     "output_type": "stream",
     "text": [
      "Saved comments and replies for link 118\n"
     ]
    },
    {
     "name": "stderr",
     "output_type": "stream",
     "text": [
      "\r",
      " 66%|██████▋   | 118/178 [1:08:04<38:46, 38.78s/it]"
     ]
    },
    {
     "name": "stdout",
     "output_type": "stream",
     "text": [
      "Saved comments and replies for link 119\n"
     ]
    },
    {
     "name": "stderr",
     "output_type": "stream",
     "text": [
      " 67%|██████▋   | 120/178 [1:09:01<31:29, 32.58s/it]"
     ]
    },
    {
     "name": "stdout",
     "output_type": "stream",
     "text": [
      "Saved comments and replies for link 120\n",
      "Saved comments and replies for link 121\n"
     ]
    },
    {
     "name": "stderr",
     "output_type": "stream",
     "text": [
      "\r",
      " 68%|██████▊   | 121/178 [1:09:26<28:44, 30.25s/it]"
     ]
    },
    {
     "name": "stdout",
     "output_type": "stream",
     "text": [
      "Saved comments and replies for link 122\n"
     ]
    },
    {
     "name": "stderr",
     "output_type": "stream",
     "text": [
      "\r",
      " 69%|██████▊   | 122/178 [1:09:39<23:39, 25.35s/it]"
     ]
    },
    {
     "name": "stdout",
     "output_type": "stream",
     "text": [
      "Saved comments and replies for link 123\n"
     ]
    },
    {
     "name": "stderr",
     "output_type": "stream",
     "text": [
      "\r",
      " 69%|██████▉   | 123/178 [1:09:52<19:45, 21.56s/it]"
     ]
    },
    {
     "name": "stdout",
     "output_type": "stream",
     "text": [
      "Saved comments and replies for link 124\n"
     ]
    },
    {
     "name": "stderr",
     "output_type": "stream",
     "text": [
      "\r",
      " 70%|██████▉   | 124/178 [1:10:24<22:13, 24.70s/it]"
     ]
    },
    {
     "name": "stdout",
     "output_type": "stream",
     "text": [
      "Saved comments and replies for link 125\n"
     ]
    },
    {
     "name": "stderr",
     "output_type": "stream",
     "text": [
      "\r",
      " 70%|███████   | 125/178 [1:10:41<19:45, 22.37s/it]"
     ]
    },
    {
     "name": "stdout",
     "output_type": "stream",
     "text": [
      "Saved comments and replies for link 126\n"
     ]
    },
    {
     "name": "stderr",
     "output_type": "stream",
     "text": [
      "\r",
      " 71%|███████   | 126/178 [1:11:02<18:51, 21.77s/it]"
     ]
    },
    {
     "name": "stdout",
     "output_type": "stream",
     "text": [
      "Saved comments and replies for link 127\n"
     ]
    },
    {
     "name": "stderr",
     "output_type": "stream",
     "text": [
      "\r",
      " 71%|███████▏  | 127/178 [1:11:13<15:45, 18.54s/it]"
     ]
    },
    {
     "name": "stdout",
     "output_type": "stream",
     "text": [
      "Saved comments and replies for link 128\n"
     ]
    },
    {
     "name": "stderr",
     "output_type": "stream",
     "text": [
      "\r",
      " 72%|███████▏  | 128/178 [1:11:25<14:03, 16.86s/it]"
     ]
    },
    {
     "name": "stdout",
     "output_type": "stream",
     "text": [
      "Saved comments and replies for link 129\n"
     ]
    },
    {
     "name": "stderr",
     "output_type": "stream",
     "text": [
      "\r",
      " 72%|███████▏  | 129/178 [1:11:34<11:48, 14.45s/it]"
     ]
    },
    {
     "name": "stdout",
     "output_type": "stream",
     "text": [
      "Saved comments and replies for link 130\n"
     ]
    },
    {
     "name": "stderr",
     "output_type": "stream",
     "text": [
      "\r",
      " 73%|███████▎  | 130/178 [1:11:46<10:51, 13.57s/it]"
     ]
    },
    {
     "name": "stdout",
     "output_type": "stream",
     "text": [
      "Saved comments and replies for link 131\n"
     ]
    },
    {
     "name": "stderr",
     "output_type": "stream",
     "text": [
      "\r",
      " 74%|███████▎  | 131/178 [1:11:56<09:48, 12.53s/it]"
     ]
    },
    {
     "name": "stdout",
     "output_type": "stream",
     "text": [
      "Saved comments and replies for link 132\n"
     ]
    },
    {
     "name": "stderr",
     "output_type": "stream",
     "text": [
      "\r",
      " 74%|███████▍  | 132/178 [1:13:25<27:13, 35.52s/it]"
     ]
    },
    {
     "name": "stdout",
     "output_type": "stream",
     "text": [
      "Saved comments and replies for link 133\n"
     ]
    },
    {
     "name": "stderr",
     "output_type": "stream",
     "text": [
      "\r",
      " 75%|███████▍  | 133/178 [1:13:58<26:08, 34.86s/it]"
     ]
    },
    {
     "name": "stdout",
     "output_type": "stream",
     "text": [
      "Saved comments and replies for link 134\n"
     ]
    },
    {
     "name": "stderr",
     "output_type": "stream",
     "text": [
      "\r",
      " 75%|███████▌  | 134/178 [1:14:28<24:19, 33.18s/it]"
     ]
    },
    {
     "name": "stdout",
     "output_type": "stream",
     "text": [
      "Saved comments and replies for link 135\n"
     ]
    },
    {
     "name": "stderr",
     "output_type": "stream",
     "text": [
      "\r",
      " 76%|███████▌  | 135/178 [1:14:42<19:41, 27.47s/it]"
     ]
    },
    {
     "name": "stdout",
     "output_type": "stream",
     "text": [
      "Saved comments and replies for link 136\n"
     ]
    },
    {
     "name": "stderr",
     "output_type": "stream",
     "text": [
      " 77%|███████▋  | 137/178 [1:15:05<13:02, 19.08s/it]"
     ]
    },
    {
     "name": "stdout",
     "output_type": "stream",
     "text": [
      "Saved comments and replies for link 137\n",
      "Saved comments and replies for link 138\n"
     ]
    },
    {
     "name": "stderr",
     "output_type": "stream",
     "text": [
      "\r",
      " 78%|███████▊  | 138/178 [1:15:11<10:02, 15.07s/it]"
     ]
    },
    {
     "name": "stdout",
     "output_type": "stream",
     "text": [
      "Saved comments and replies for link 139\n"
     ]
    },
    {
     "name": "stderr",
     "output_type": "stream",
     "text": [
      "\r",
      " 78%|███████▊  | 139/178 [1:15:20<08:34, 13.18s/it]"
     ]
    },
    {
     "name": "stdout",
     "output_type": "stream",
     "text": [
      "Saved comments and replies for link 140\n"
     ]
    },
    {
     "name": "stderr",
     "output_type": "stream",
     "text": [
      "\r",
      " 79%|███████▊  | 140/178 [1:15:27<07:09, 11.30s/it]"
     ]
    },
    {
     "name": "stdout",
     "output_type": "stream",
     "text": [
      "Saved comments and replies for link 141\n"
     ]
    },
    {
     "name": "stderr",
     "output_type": "stream",
     "text": [
      "\r",
      " 79%|███████▉  | 141/178 [1:16:06<12:06, 19.63s/it]"
     ]
    },
    {
     "name": "stdout",
     "output_type": "stream",
     "text": [
      "Saved comments and replies for link 142\n"
     ]
    },
    {
     "name": "stderr",
     "output_type": "stream",
     "text": [
      "\r",
      " 80%|███████▉  | 142/178 [1:16:24<11:32, 19.25s/it]"
     ]
    },
    {
     "name": "stdout",
     "output_type": "stream",
     "text": [
      "Saved comments and replies for link 143\n"
     ]
    },
    {
     "name": "stderr",
     "output_type": "stream",
     "text": [
      "\r",
      " 80%|████████  | 143/178 [1:16:37<10:06, 17.33s/it]"
     ]
    },
    {
     "name": "stdout",
     "output_type": "stream",
     "text": [
      "Saved comments and replies for link 144\n"
     ]
    },
    {
     "name": "stderr",
     "output_type": "stream",
     "text": [
      "\r",
      " 81%|████████  | 144/178 [1:16:43<07:55, 13.99s/it]"
     ]
    },
    {
     "name": "stdout",
     "output_type": "stream",
     "text": [
      "Saved comments and replies for link 145\n"
     ]
    },
    {
     "name": "stderr",
     "output_type": "stream",
     "text": [
      " 82%|████████▏ | 146/178 [1:18:11<14:57, 28.05s/it]"
     ]
    },
    {
     "name": "stdout",
     "output_type": "stream",
     "text": [
      "Saved comments and replies for link 146\n",
      "Saved comments and replies for link 147\n"
     ]
    },
    {
     "name": "stderr",
     "output_type": "stream",
     "text": [
      "\r",
      " 83%|████████▎ | 147/178 [1:18:32<13:25, 26.00s/it]"
     ]
    },
    {
     "name": "stdout",
     "output_type": "stream",
     "text": [
      "Saved comments and replies for link 148\n"
     ]
    },
    {
     "name": "stderr",
     "output_type": "stream",
     "text": [
      " 84%|████████▎ | 149/178 [1:18:58<09:15, 19.16s/it]"
     ]
    },
    {
     "name": "stdout",
     "output_type": "stream",
     "text": [
      "Saved comments and replies for link 149\n",
      "Saved comments and replies for link 150\n"
     ]
    },
    {
     "name": "stderr",
     "output_type": "stream",
     "text": [
      "\r",
      " 84%|████████▍ | 150/178 [1:20:42<20:51, 44.69s/it]"
     ]
    },
    {
     "name": "stdout",
     "output_type": "stream",
     "text": [
      "Saved comments and replies for link 151\n"
     ]
    },
    {
     "name": "stderr",
     "output_type": "stream",
     "text": [
      "\r",
      " 85%|████████▍ | 151/178 [1:21:22<19:28, 43.26s/it]"
     ]
    },
    {
     "name": "stdout",
     "output_type": "stream",
     "text": [
      "Saved comments and replies for link 152\n"
     ]
    },
    {
     "name": "stderr",
     "output_type": "stream",
     "text": [
      "\r",
      " 85%|████████▌ | 152/178 [1:21:48<16:29, 38.07s/it]"
     ]
    },
    {
     "name": "stdout",
     "output_type": "stream",
     "text": [
      "Saved comments and replies for link 153\n"
     ]
    },
    {
     "name": "stderr",
     "output_type": "stream",
     "text": [
      "\r",
      " 86%|████████▌ | 153/178 [1:21:56<12:02, 28.90s/it]"
     ]
    },
    {
     "name": "stdout",
     "output_type": "stream",
     "text": [
      "Saved comments and replies for link 154\n"
     ]
    },
    {
     "name": "stderr",
     "output_type": "stream",
     "text": [
      "\r",
      " 87%|████████▋ | 154/178 [1:22:31<12:23, 30.97s/it]"
     ]
    },
    {
     "name": "stdout",
     "output_type": "stream",
     "text": [
      "Saved comments and replies for link 155\n"
     ]
    },
    {
     "name": "stderr",
     "output_type": "stream",
     "text": [
      "\r",
      " 87%|████████▋ | 155/178 [1:22:44<09:45, 25.46s/it]"
     ]
    },
    {
     "name": "stdout",
     "output_type": "stream",
     "text": [
      "Saved comments and replies for link 156\n"
     ]
    },
    {
     "name": "stderr",
     "output_type": "stream",
     "text": [
      "\r",
      " 88%|████████▊ | 156/178 [1:23:25<11:02, 30.13s/it]"
     ]
    },
    {
     "name": "stdout",
     "output_type": "stream",
     "text": [
      "Saved comments and replies for link 157\n"
     ]
    },
    {
     "name": "stderr",
     "output_type": "stream",
     "text": [
      "\r",
      " 88%|████████▊ | 157/178 [1:23:38<08:46, 25.05s/it]"
     ]
    },
    {
     "name": "stdout",
     "output_type": "stream",
     "text": [
      "Saved comments and replies for link 158\n"
     ]
    },
    {
     "name": "stderr",
     "output_type": "stream",
     "text": [
      "\r",
      " 89%|████████▉ | 158/178 [1:24:03<08:18, 24.93s/it]"
     ]
    },
    {
     "name": "stdout",
     "output_type": "stream",
     "text": [
      "Saved comments and replies for link 159\n"
     ]
    },
    {
     "name": "stderr",
     "output_type": "stream",
     "text": [
      " 90%|████████▉ | 160/178 [1:25:02<08:55, 29.74s/it]"
     ]
    },
    {
     "name": "stdout",
     "output_type": "stream",
     "text": [
      "Saved comments and replies for link 160\n",
      "Saved comments and replies for link 161\n"
     ]
    },
    {
     "name": "stderr",
     "output_type": "stream",
     "text": [
      "\r",
      " 90%|█████████ | 161/178 [1:25:04<06:02, 21.32s/it]"
     ]
    },
    {
     "name": "stdout",
     "output_type": "stream",
     "text": [
      "Saved comments and replies for link 162\n"
     ]
    },
    {
     "name": "stderr",
     "output_type": "stream",
     "text": [
      "\r",
      " 91%|█████████ | 162/178 [1:25:32<06:16, 23.50s/it]"
     ]
    },
    {
     "name": "stdout",
     "output_type": "stream",
     "text": [
      "Saved comments and replies for link 163\n"
     ]
    },
    {
     "name": "stderr",
     "output_type": "stream",
     "text": [
      "\r",
      " 92%|█████████▏| 163/178 [1:25:46<05:06, 20.44s/it]"
     ]
    },
    {
     "name": "stdout",
     "output_type": "stream",
     "text": [
      "Saved comments and replies for link 164\n"
     ]
    },
    {
     "name": "stderr",
     "output_type": "stream",
     "text": [
      " 93%|█████████▎| 165/178 [1:27:45<07:48, 36.06s/it]"
     ]
    },
    {
     "name": "stdout",
     "output_type": "stream",
     "text": [
      "Saved comments and replies for link 165\n",
      "Saved comments and replies for link 166\n"
     ]
    },
    {
     "name": "stderr",
     "output_type": "stream",
     "text": [
      " 94%|█████████▍| 167/178 [1:27:59<03:53, 21.24s/it]"
     ]
    },
    {
     "name": "stdout",
     "output_type": "stream",
     "text": [
      "Saved comments and replies for link 167\n",
      "Saved comments and replies for link 168\n"
     ]
    },
    {
     "name": "stderr",
     "output_type": "stream",
     "text": [
      "\r",
      " 94%|█████████▍| 168/178 [1:28:14<03:15, 19.53s/it]"
     ]
    },
    {
     "name": "stdout",
     "output_type": "stream",
     "text": [
      "Saved comments and replies for link 169\n"
     ]
    },
    {
     "name": "stderr",
     "output_type": "stream",
     "text": [
      " 96%|█████████▌| 170/178 [1:29:05<02:49, 21.20s/it]"
     ]
    },
    {
     "name": "stdout",
     "output_type": "stream",
     "text": [
      "Saved comments and replies for link 170\n",
      "Saved comments and replies for link 171\n"
     ]
    },
    {
     "name": "stderr",
     "output_type": "stream",
     "text": [
      "\r",
      " 96%|█████████▌| 171/178 [1:29:13<02:01, 17.43s/it]"
     ]
    },
    {
     "name": "stdout",
     "output_type": "stream",
     "text": [
      "Saved comments and replies for link 172\n"
     ]
    },
    {
     "name": "stderr",
     "output_type": "stream",
     "text": [
      "\r",
      " 97%|█████████▋| 172/178 [1:29:22<01:28, 14.76s/it]"
     ]
    },
    {
     "name": "stdout",
     "output_type": "stream",
     "text": [
      "Saved comments and replies for link 173\n"
     ]
    },
    {
     "name": "stderr",
     "output_type": "stream",
     "text": [
      "\r",
      " 97%|█████████▋| 173/178 [1:29:53<01:37, 19.52s/it]"
     ]
    },
    {
     "name": "stdout",
     "output_type": "stream",
     "text": [
      "Saved comments and replies for link 174\n"
     ]
    },
    {
     "name": "stderr",
     "output_type": "stream",
     "text": [
      "\r",
      " 98%|█████████▊| 174/178 [1:30:26<01:34, 23.69s/it]"
     ]
    },
    {
     "name": "stdout",
     "output_type": "stream",
     "text": [
      "Saved comments and replies for link 175\n"
     ]
    },
    {
     "name": "stderr",
     "output_type": "stream",
     "text": [
      "\r",
      " 98%|█████████▊| 175/178 [1:30:49<01:10, 23.58s/it]"
     ]
    },
    {
     "name": "stdout",
     "output_type": "stream",
     "text": [
      "Saved comments and replies for link 176\n"
     ]
    },
    {
     "name": "stderr",
     "output_type": "stream",
     "text": [
      "\r",
      " 99%|█████████▉| 176/178 [1:31:15<00:48, 24.10s/it]"
     ]
    },
    {
     "name": "stdout",
     "output_type": "stream",
     "text": [
      "Saved comments and replies for link 177\n"
     ]
    },
    {
     "name": "stderr",
     "output_type": "stream",
     "text": [
      "\r",
      " 99%|█████████▉| 177/178 [1:31:26<00:20, 20.20s/it]"
     ]
    },
    {
     "name": "stdout",
     "output_type": "stream",
     "text": [
      "Saved comments and replies for link 178\n"
     ]
    },
    {
     "name": "stderr",
     "output_type": "stream",
     "text": [
      "100%|██████████| 178/178 [1:31:33<00:00, 30.86s/it]\n"
     ]
    }
   ],
   "source": [
    "for i, link in tqdm(enumerate(hangyoreh3['link'], 1), total=len(hangyoreh3['link'])): # 1부터 시작하여 i값 증가\n",
    "    try:\n",
    "        total_comments, total_replies = get_comments(link)\n",
    "        \n",
    "        # 데이터 프레임으로 변환\n",
    "        df_comments = pd.DataFrame.from_dict(total_comments, orient='index')\n",
    "        df_replies = pd.DataFrame.from_dict(total_replies, orient='index')\n",
    "        \n",
    "        # 'Time' 컬럼의 시간 형식 변경\n",
    "        if not df_comments.empty:\n",
    "            df_comments['Time'] = df_comments['Time'].apply(convert_time_format)\n",
    "\n",
    "        if not df_replies.empty:\n",
    "            df_replies['Time'] = df_replies['Time'].apply(convert_time_format)\n",
    "\n",
    "        # 삭제된 댓글(빈 값이 들어가 있는 행) 삭제\n",
    "#         df_comment.dropna(inplace=True)\n",
    "#         df_replies.dropna(inplace=True)\n",
    "        \n",
    "        # CSV 파일로 저장\n",
    "        df_comments.to_csv(f'../data_crawling/comments/FAVORITE/hangyoreh3_comments/comments_hangyoreh_{i}.csv', index=False)\n",
    "        df_replies.to_csv(f'../data_crawling/comments/FAVORITE/hangyoreh3_replies/replies_hangyoreh_{i}.csv', index=False)\n",
    "        \n",
    "        print(f\"Saved comments and replies for link {i}\")\n",
    "        \n",
    "        # 잠시 대기\n",
    "        time.sleep(random.random() * 1.5)\n",
    "        \n",
    "    except Exception as e:\n",
    "        print(f\"Failed to save comments and replies for link {i} due to {e}\")"
   ]
  },
  {
   "cell_type": "code",
   "execution_count": null,
   "id": "54ad6114",
   "metadata": {},
   "outputs": [],
   "source": []
  }
 ],
 "metadata": {
  "kernelspec": {
   "display_name": "Python 3",
   "language": "python",
   "name": "python3"
  },
  "language_info": {
   "codemirror_mode": {
    "name": "ipython",
    "version": 3
   },
   "file_extension": ".py",
   "mimetype": "text/x-python",
   "name": "python",
   "nbconvert_exporter": "python",
   "pygments_lexer": "ipython3",
   "version": "3.8.8"
  }
 },
 "nbformat": 4,
 "nbformat_minor": 5
}
